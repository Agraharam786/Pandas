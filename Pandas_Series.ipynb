{
 "cells": [
  {
   "cell_type": "code",
   "execution_count": 1,
   "id": "2511501f-3eab-4b94-bc66-f53f97eab7a1",
   "metadata": {},
   "outputs": [],
   "source": [
    "import pandas as pd\n",
    "\n"
   ]
  },
  {
   "cell_type": "code",
   "execution_count": 5,
   "id": "d8be1322-aa5c-4db0-9a67-6f3d84537aae",
   "metadata": {},
   "outputs": [
    {
     "data": {
      "text/plain": [
       "0    1\n",
       "1    2\n",
       "2    3\n",
       "dtype: int64"
      ]
     },
     "execution_count": 5,
     "metadata": {},
     "output_type": "execute_result"
    }
   ],
   "source": [
    "series =pd.Series([1,2,3])\n",
    "series\n"
   ]
  },
  {
   "cell_type": "code",
   "execution_count": 3,
   "id": "266aa4a6-cb80-4b3f-806f-1afef8628ac3",
   "metadata": {},
   "outputs": [
    {
     "name": "stdout",
     "output_type": "stream",
     "text": [
      "a    1\n",
      "b    2\n",
      "c    3\n",
      "dtype: int64\n"
     ]
    },
    {
     "data": {
      "text/plain": [
       "1"
      ]
     },
     "execution_count": 3,
     "metadata": {},
     "output_type": "execute_result"
    }
   ],
   "source": [
    "import pandas as pd\n",
    "indexSeries =pd.Series([1,2,3], index=['a','b','c'])\n",
    "print(indexSeries)\n",
    "indexSeries['a']\n"
   ]
  },
  {
   "cell_type": "code",
   "execution_count": 13,
   "id": "1a482dfd-9c8f-4696-9834-7257f24b6bac",
   "metadata": {},
   "outputs": [
    {
     "data": {
      "text/plain": [
       "0    10\n",
       "1    20\n",
       "2    30\n",
       "dtype: int64"
      ]
     },
     "execution_count": 13,
     "metadata": {},
     "output_type": "execute_result"
    }
   ],
   "source": [
    "import pandas as pd\n",
    "s=pd.Series([10,20,30])\n",
    "s"
   ]
  },
  {
   "cell_type": "code",
   "execution_count": 19,
   "id": "ac8ebdc3-9e0e-4e25-a758-5804ab734dd8",
   "metadata": {},
   "outputs": [
    {
     "data": {
      "text/plain": [
       "0    10\n",
       "1    20\n",
       "2    30\n",
       "dtype: int64"
      ]
     },
     "execution_count": 19,
     "metadata": {},
     "output_type": "execute_result"
    }
   ],
   "source": [
    "#different ways to create series\n",
    "#List\n",
    "import pandas as pd\n",
    "data =[10,20,30]\n",
    "s=pd.Series(data)\n",
    "s\n"
   ]
  },
  {
   "cell_type": "code",
   "execution_count": 81,
   "id": "689da305-a083-4a44-b3a7-4d0d689f66eb",
   "metadata": {},
   "outputs": [
    {
     "data": {
      "text/plain": [
       "array([200, 300], dtype=int64)"
      ]
     },
     "execution_count": 81,
     "metadata": {},
     "output_type": "execute_result"
    }
   ],
   "source": [
    "#dictionary\n",
    "data ={'a':100,'b':200,'c':300}\n",
    "Sdict=pd.Series(data)\n",
    "Sdict #to get entire series\n",
    "Sdict['b']\n",
    "#Accessing multiple elements\n",
    "Sdict[['c','b']]\n",
    "Sdict[['b','c']].values #to get it in array\n",
    "Sdict[['b','c']].values[0]  # get elemts by index from the array\n",
    "Sdict[['b','c']].values[[0,1]]\n",
    "Sdict[['a','b','c']].values[0:3] # to get 3 elements from 0 index\n",
    "Sdict[['a','b','c']].values[-1] # to get last element in the array\n",
    "Sdict[['a','b','c']].values[:-1] #to skip last element\n",
    "Sdict[['a','b','c']][:-1] #to skip last element in series\n",
    "\n"
   ]
  },
  {
   "cell_type": "code",
   "execution_count": 107,
   "id": "24e54950-3d65-44e8-a375-2b8a042a4405",
   "metadata": {},
   "outputs": [
    {
     "data": {
      "text/plain": [
       "array([10, 20])"
      ]
     },
     "execution_count": 107,
     "metadata": {},
     "output_type": "execute_result"
    }
   ],
   "source": [
    "# creating series from numpy\n",
    "import numpy as np\n",
    "\n",
    "data = np.array([10,20,30])\n",
    "data\n",
    "series =pd.Series(data)\n",
    "series\n",
    "series[0:2]\n",
    "series[:-1]\n",
    "series[:-1].values\n",
    "series[:-1].values[1]\n",
    "series.values\n",
    "series.values[0:2]\n",
    "\n",
    "\n"
   ]
  },
  {
   "cell_type": "code",
   "execution_count": 133,
   "id": "8023fc5e-4c4e-48ea-b2a0-6aba1c45247f",
   "metadata": {},
   "outputs": [
    {
     "data": {
      "text/plain": [
       "0    2\n",
       "1    2\n",
       "2    2\n",
       "3    2\n",
       "4    2\n",
       "dtype: int64"
      ]
     },
     "execution_count": 133,
     "metadata": {},
     "output_type": "execute_result"
    }
   ],
   "source": [
    "#get series with Scalar value\n",
    "scalar=pd.Series(2,index=[0,1,2,3,4,5])\n",
    "scalar\n",
    "scalar[0:4]\n",
    "scalar[:-1]"
   ]
  },
  {
   "cell_type": "code",
   "execution_count": 155,
   "id": "147fc41d-942c-4168-b031-fdae8786963f",
   "metadata": {},
   "outputs": [
    {
     "data": {
      "text/html": [
       "<div>\n",
       "<style scoped>\n",
       "    .dataframe tbody tr th:only-of-type {\n",
       "        vertical-align: middle;\n",
       "    }\n",
       "\n",
       "    .dataframe tbody tr th {\n",
       "        vertical-align: top;\n",
       "    }\n",
       "\n",
       "    .dataframe thead th {\n",
       "        text-align: right;\n",
       "    }\n",
       "</style>\n",
       "<table border=\"1\" class=\"dataframe\">\n",
       "  <thead>\n",
       "    <tr style=\"text-align: right;\">\n",
       "      <th></th>\n",
       "      <th>B</th>\n",
       "      <th>C</th>\n",
       "    </tr>\n",
       "  </thead>\n",
       "  <tbody>\n",
       "    <tr>\n",
       "      <th>0</th>\n",
       "      <td>20</td>\n",
       "      <td>30</td>\n",
       "    </tr>\n",
       "    <tr>\n",
       "      <th>1</th>\n",
       "      <td>21</td>\n",
       "      <td>31</td>\n",
       "    </tr>\n",
       "    <tr>\n",
       "      <th>2</th>\n",
       "      <td>22</td>\n",
       "      <td>32</td>\n",
       "    </tr>\n",
       "    <tr>\n",
       "      <th>3</th>\n",
       "      <td>23</td>\n",
       "      <td>33</td>\n",
       "    </tr>\n",
       "  </tbody>\n",
       "</table>\n",
       "</div>"
      ],
      "text/plain": [
       "    B   C\n",
       "0  20  30\n",
       "1  21  31\n",
       "2  22  32\n",
       "3  23  33"
      ]
     },
     "execution_count": 155,
     "metadata": {},
     "output_type": "execute_result"
    }
   ],
   "source": [
    "#get series from Data frame\n",
    "data ={'A':[10,11,12,13],'B':[20,21,22,23],'C':[30,31,32,33]}\n",
    "data\n",
    "df =pd.DataFrame(data)\n",
    "df\n",
    "df['A']\n",
    "df['B']\n"
   ]
  },
  {
   "cell_type": "code",
   "execution_count": null,
   "id": "09067820-4875-4acc-b8b5-b44db86f5820",
   "metadata": {},
   "outputs": [],
   "source": []
  }
 ],
 "metadata": {
  "kernelspec": {
   "display_name": "Python 3 (ipykernel)",
   "language": "python",
   "name": "python3"
  },
  "language_info": {
   "codemirror_mode": {
    "name": "ipython",
    "version": 3
   },
   "file_extension": ".py",
   "mimetype": "text/x-python",
   "name": "python",
   "nbconvert_exporter": "python",
   "pygments_lexer": "ipython3",
   "version": "3.12.7"
  }
 },
 "nbformat": 4,
 "nbformat_minor": 5
}
