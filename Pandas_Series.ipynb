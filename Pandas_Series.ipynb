{
 "cells": [
  {
   "cell_type": "code",
   "execution_count": 1,
   "id": "2511501f-3eab-4b94-bc66-f53f97eab7a1",
   "metadata": {},
   "outputs": [],
   "source": [
    "import pandas as pd\n",
    "\n"
   ]
  },
  {
   "cell_type": "code",
   "execution_count": 5,
   "id": "d8be1322-aa5c-4db0-9a67-6f3d84537aae",
   "metadata": {},
   "outputs": [
    {
     "data": {
      "text/plain": [
       "0    1\n",
       "1    2\n",
       "2    3\n",
       "dtype: int64"
      ]
     },
     "execution_count": 5,
     "metadata": {},
     "output_type": "execute_result"
    }
   ],
   "source": [
    "series =pd.Series([1,2,3])\n",
    "series\n"
   ]
  },
  {
   "cell_type": "code",
   "execution_count": 3,
   "id": "266aa4a6-cb80-4b3f-806f-1afef8628ac3",
   "metadata": {},
   "outputs": [
    {
     "name": "stdout",
     "output_type": "stream",
     "text": [
      "a    1\n",
      "b    2\n",
      "c    3\n",
      "dtype: int64\n"
     ]
    },
    {
     "data": {
      "text/plain": [
       "1"
      ]
     },
     "execution_count": 3,
     "metadata": {},
     "output_type": "execute_result"
    }
   ],
   "source": [
    "import pandas as pd\n",
    "indexSeries =pd.Series([1,2,3], index=['a','b','c'])\n",
    "print(indexSeries)\n",
    "indexSeries['a']\n"
   ]
  },
  {
   "cell_type": "code",
   "execution_count": 13,
   "id": "1a482dfd-9c8f-4696-9834-7257f24b6bac",
   "metadata": {},
   "outputs": [
    {
     "data": {
      "text/plain": [
       "0    10\n",
       "1    20\n",
       "2    30\n",
       "dtype: int64"
      ]
     },
     "execution_count": 13,
     "metadata": {},
     "output_type": "execute_result"
    }
   ],
   "source": [
    "import pandas as pd\n",
    "s=pd.Series([10,20,30])\n",
    "s"
   ]
  },
  {
   "cell_type": "code",
   "execution_count": 19,
   "id": "ac8ebdc3-9e0e-4e25-a758-5804ab734dd8",
   "metadata": {},
   "outputs": [
    {
     "data": {
      "text/plain": [
       "0    10\n",
       "1    20\n",
       "2    30\n",
       "dtype: int64"
      ]
     },
     "execution_count": 19,
     "metadata": {},
     "output_type": "execute_result"
    }
   ],
   "source": [
    "#different ways to create series\n",
    "#List\n",
    "import pandas as pd\n",
    "data =[10,20,30]\n",
    "s=pd.Series(data)\n",
    "s\n"
   ]
  },
  {
   "cell_type": "code",
   "execution_count": 59,
   "id": "689da305-a083-4a44-b3a7-4d0d689f66eb",
   "metadata": {},
   "outputs": [
    {
     "data": {
      "text/plain": [
       "300"
      ]
     },
     "execution_count": 59,
     "metadata": {},
     "output_type": "execute_result"
    }
   ],
   "source": [
    "#dictionary\n",
    "data ={'a':100,'b':200,'c':300}\n",
    "Sdict=pd.Series(data)\n",
    "Sdict #to get entire series\n",
    "Sdict['b']\n",
    "#Accessing multiple elements\n",
    "Sdict[['c','b']]\n",
    "Sdict[['b','c']].values #to get it in array\n",
    "Sdict[['b','c']].values[0]  # get elemts by index from the array\n",
    "Sdict[['b','c']].values[[0,1]]\n",
    "Sdict[['a','b','c']].values[0:3]\n",
    "Sdict[['a','b','c']].values[-1]\n"
   ]
  },
  {
   "cell_type": "code",
   "execution_count": null,
   "id": "24e54950-3d65-44e8-a375-2b8a042a4405",
   "metadata": {},
   "outputs": [],
   "source": []
  }
 ],
 "metadata": {
  "kernelspec": {
   "display_name": "Python 3 (ipykernel)",
   "language": "python",
   "name": "python3"
  },
  "language_info": {
   "codemirror_mode": {
    "name": "ipython",
    "version": 3
   },
   "file_extension": ".py",
   "mimetype": "text/x-python",
   "name": "python",
   "nbconvert_exporter": "python",
   "pygments_lexer": "ipython3",
   "version": "3.12.7"
  }
 },
 "nbformat": 4,
 "nbformat_minor": 5
}
